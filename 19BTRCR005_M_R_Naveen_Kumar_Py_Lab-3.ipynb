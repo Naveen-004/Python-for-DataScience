{
 "cells": [
  {
   "cell_type": "markdown",
   "source": [
    "<h1><div align=center>PYTHON FOR DATA SCIENCE LAB</div> </h1>\r\n",
    "<h3><div align=right><b><u>Name:</u></b> M.R.Naveen Kumar\r\n",
    "<div align=right><b><u>USN:</u></b> 19BTRCR005"
   ],
   "metadata": {}
  },
  {
   "cell_type": "markdown",
   "source": [
    " <h2><u> 3:-</u> Write Python Programs </h2>"
   ],
   "metadata": {}
  },
  {
   "cell_type": "markdown",
   "source": [
    "<h3>a. To print all prime numbers in a series</h3>"
   ],
   "metadata": {}
  },
  {
   "cell_type": "code",
   "execution_count": 34,
   "source": [
    "# To check whether a number is prime or not, method 1\r\n",
    "num = int(input(\"Enter the number: \"))\r\n",
    "if num > 1:\r\n",
    "    for i in range(2,num):\r\n",
    "        if  (num%i == 0):\r\n",
    "            print(\"Not a prime number\")\r\n",
    "            break\r\n",
    "    else:\r\n",
    "        print(\"It is a prime number\")\r\n",
    "else:\r\n",
    "    print(\"Give proper input\")"
   ],
   "outputs": [
    {
     "output_type": "stream",
     "name": "stdout",
     "text": [
      "Enter the number: 10\n",
      "Not a prime number\n"
     ]
    }
   ],
   "metadata": {}
  },
  {
   "cell_type": "code",
   "execution_count": 20,
   "source": [
    "# To check whether a number is prime or not, method 2\r\n",
    "import math\r\n",
    "num = int(input(\"Enter the number: \"))\r\n",
    "if num > 1:\r\n",
    "    for i in range(2,math.floor(math.sqrt(num))+1):\r\n",
    "        if  (num%i == 0):\r\n",
    "            print(\"Not a prime number\")\r\n",
    "            break\r\n",
    "    else:\r\n",
    "        print(\"It is a prime number\")\r\n",
    "else:\r\n",
    "    print(\"Give proper input\")"
   ],
   "outputs": [
    {
     "output_type": "stream",
     "name": "stdout",
     "text": [
      "Enter the limit: 10\n",
      "Not a prime number\n"
     ]
    }
   ],
   "metadata": {}
  },
  {
   "cell_type": "code",
   "execution_count": 36,
   "source": [
    "# To check whether a number is prime or not, method 3\r\n",
    "num = int(input(\"Enter the number: \"))\r\n",
    "if num > 1:\r\n",
    "    for i in range(2,(num//2)+1):\r\n",
    "        if  (num%i == 0):\r\n",
    "            print(\"Not a prime number\")\r\n",
    "            break\r\n",
    "    else:\r\n",
    "        print(\"It is a prime number\")\r\n",
    "else:\r\n",
    "    print(\"Give proper input\")"
   ],
   "outputs": [
    {
     "output_type": "stream",
     "name": "stdout",
     "text": [
      "Enter the number: 5\n",
      "It is a prime number\n"
     ]
    }
   ],
   "metadata": {}
  },
  {
   "cell_type": "code",
   "execution_count": 25,
   "source": [
    "# To generate prime numbers from 2 to n\n",
    "n = int(input(\"Enter the number: \"))\n",
    "for n in range(2,n):\n",
    "    if n > 1:  \n",
    "        for i in range(2,n):  \n",
    "            if (n % i) == 0:  \n",
    "                break  \n",
    "        else:  \n",
    "            print(n)"
   ],
   "outputs": [
    {
     "output_type": "stream",
     "name": "stdout",
     "text": [
      "Enter the number: 20\n",
      "2\n",
      "3\n",
      "5\n",
      "7\n",
      "11\n",
      "13\n",
      "17\n",
      "19\n"
     ]
    }
   ],
   "metadata": {}
  },
  {
   "cell_type": "code",
   "execution_count": 37,
   "source": [
    "lower = int(input(\"Enter lower range: \"))  \n",
    "upper = int(input(\"Enter upper range: \"))  \n",
    "  \n",
    "for num in range(lower,upper + 1):  \n",
    "    if num > 1:  \n",
    "        for i in range(2,num):  \n",
    "            if (num % i) == 0:  \n",
    "                break  \n",
    "        else:  \n",
    "            print(num)  "
   ],
   "outputs": [
    {
     "output_type": "stream",
     "name": "stdout",
     "text": [
      "Enter lower range: 20\n",
      "Enter upper range: 50\n",
      "23\n",
      "29\n",
      "31\n",
      "37\n",
      "41\n",
      "43\n",
      "47\n"
     ]
    }
   ],
   "metadata": {}
  },
  {
   "cell_type": "markdown",
   "source": [
    "<h3>b. To find largest among three numbers, input by user</h3>"
   ],
   "metadata": {}
  },
  {
   "cell_type": "code",
   "execution_count": 32,
   "source": [
    "a = int(input(\"Enter the 1st number: \"))\n",
    "b = int(input(\"Enter the 2nd number: \"))\n",
    "c = int(input(\"Enter the 3rd number: \"))\n",
    "\n",
    "if a>b and a>c:\n",
    "    print(\"{} is the largest number\".format(a))\n",
    "elif b>a and b>c:\n",
    "    print(\"{} is the largest number\".format(b))\n",
    "else:\n",
    "    print(\"{} is the largest number\".format(c))"
   ],
   "outputs": [
    {
     "output_type": "stream",
     "name": "stdout",
     "text": [
      "Enter the 1st number: 5\n",
      "Enter the 2nd number: 10\n",
      "Enter the 3rd number: 15\n",
      "15 is the largest number\n"
     ]
    }
   ],
   "metadata": {}
  },
  {
   "cell_type": "markdown",
   "source": [
    "<h3>c. To find HCF for two numbers, input by user</h3>"
   ],
   "metadata": {}
  },
  {
   "cell_type": "code",
   "execution_count": 33,
   "source": [
    "x = int(input(\"Enter the 1st number: \"))\n",
    "y = int(input(\"Enter the 2nd number: \"))\n",
    "x_c = x\n",
    "while(x!=y):\n",
    "    if(x > y):\n",
    "        x = x-y\n",
    "    else:\n",
    "        y = y-x\n",
    "\n",
    "print(\"The HCF of {} and {} is {}\".format(x_c,y,x))"
   ],
   "outputs": [
    {
     "output_type": "stream",
     "name": "stdout",
     "text": [
      "Enter the 1st number: 15\n",
      "Enter the 2nd number: 10\n",
      "The HCF of 15 and 5 is 5\n"
     ]
    }
   ],
   "metadata": {}
  },
  {
   "cell_type": "code",
   "execution_count": 41,
   "source": [
    "# recursion method\n",
    "def hcf(x,y):\n",
    "    if y == 0:\n",
    "        return x\n",
    "    else:\n",
    "        return hcf(x, x%y)\n",
    "\n",
    "x = int(input(\"Enter the 1st number: \"))\n",
    "y = int(input(\"Enter the 2nd number: \"))\n",
    "print(\"The HCF of {} and {} is {}\".format(x,y,hcf(x,y)))"
   ],
   "outputs": [
    {
     "output_type": "stream",
     "name": "stdout",
     "text": [
      "Enter the 1st number: 10\n",
      "Enter the 2nd number: 20\n",
      "The HCF of 10 and 20 is 10\n"
     ]
    }
   ],
   "metadata": {}
  }
 ],
 "metadata": {
  "kernelspec": {
   "display_name": "Python 3 (ipykernel)",
   "language": "python",
   "name": "python3"
  },
  "language_info": {
   "codemirror_mode": {
    "name": "ipython",
    "version": 3
   },
   "file_extension": ".py",
   "mimetype": "text/x-python",
   "name": "python",
   "nbconvert_exporter": "python",
   "pygments_lexer": "ipython3",
   "version": "3.9.5"
  }
 },
 "nbformat": 4,
 "nbformat_minor": 5
}