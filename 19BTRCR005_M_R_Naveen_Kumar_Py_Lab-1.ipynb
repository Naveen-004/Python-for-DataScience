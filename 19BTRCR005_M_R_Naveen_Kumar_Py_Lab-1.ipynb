{
 "cells": [
  {
   "cell_type": "markdown",
   "source": [
    "                                                                                                                                    M.R.Naveen Kumar\r\n",
    "                                                                                                                                        19BTRCR005"
   ],
   "metadata": {}
  },
  {
   "cell_type": "markdown",
   "source": [
    "1.      Write and run a program\r\n",
    "\r\n",
    "1a) To elaborate variables and their data types such as int, float, boolean, string, list, set, dictionary and tuples; exchange of two values."
   ],
   "metadata": {}
  },
  {
   "cell_type": "code",
   "execution_count": 3,
   "source": [
    "a=1\r\n",
    "b=2.3\r\n",
    "c=\"Venom\"\r\n",
    "d=[1,2.56,\"Toxin\",True]\r\n",
    "e=False\r\n",
    "f=(1,4.2,\"Knull\")\r\n",
    "g={\"name\":\"Naveen\",\"usn\":5}\r\n",
    "h={1,2,2,2,2}\r\n",
    "print(\"value of a is \",a ,\"\\ntype of a is \",type(a))\r\n",
    "print(\"value of a is \",b ,\"\\ntype of a is \",type(b))\r\n",
    "print(\"value of a is \",c ,\"\\ntype of a is \",type(c))\r\n",
    "print(\"value of a is \",d ,\"\\ntype of a is \",type(d))\r\n",
    "print(\"value of a is \",e ,\"\\ntype of a is \",type(e))\r\n",
    "print(\"value of a is \",f ,\"\\ntype of a is \",type(f))\r\n",
    "print(\"value of a is \",g ,\"\\ntype of a is \",type(g))\r\n",
    "print(\"value of a is \",h ,\"\\ntype of a is \",type(h))"
   ],
   "outputs": [
    {
     "output_type": "stream",
     "name": "stdout",
     "text": [
      "value of a is  1 \n",
      "type of a is  <class 'int'>\n",
      "value of a is  2.3 \n",
      "type of a is  <class 'float'>\n",
      "value of a is  Venom \n",
      "type of a is  <class 'str'>\n",
      "value of a is  [1, 2.56, 'Toxin', True] \n",
      "type of a is  <class 'list'>\n",
      "value of a is  False \n",
      "type of a is  <class 'bool'>\n",
      "value of a is  (1, 4.2, 'Knull') \n",
      "type of a is  <class 'tuple'>\n",
      "value of a is  {'name': 'Naveen', 'usn': 5} \n",
      "type of a is  <class 'dict'>\n",
      "value of a is  {1, 2} \n",
      "type of a is  <class 'set'>\n"
     ]
    }
   ],
   "metadata": {}
  },
  {
   "cell_type": "code",
   "execution_count": 14,
   "source": [
    "a=int(input(\"enter 1st value\"))\r\n",
    "b=int(input(\"enter 2st value\"))\r\n",
    "print(\"before swap a= \",a,\" b=\",b)\r\n",
    "a,b=b,a\r\n",
    "print(\"after swap a= \",a,\" b=\",b)"
   ],
   "outputs": [
    {
     "output_type": "stream",
     "name": "stdout",
     "text": [
      "before swap a=  2  b= 3\n",
      "after swap a=  3  b= 2\n"
     ]
    }
   ],
   "metadata": {}
  },
  {
   "cell_type": "code",
   "execution_count": 15,
   "source": [
    "a=float(input(\"enter 1st value\"))\r\n",
    "b=float(input(\"enter 2st value\"))\r\n",
    "print(\"before swap a= \",a,\" b=\",b)\r\n",
    "a,b=b,a\r\n",
    "print(\"after swap a= \",a,\" b=\",b)"
   ],
   "outputs": [
    {
     "output_type": "stream",
     "name": "stdout",
     "text": [
      "before swap a=  2.3  b= 8.1\n",
      "after swap a=  8.1  b= 2.3\n"
     ]
    }
   ],
   "metadata": {}
  },
  {
   "cell_type": "code",
   "execution_count": 4,
   "source": [
    "a=(input(\"enter 1st string\"))\r\n",
    "b=(input(\"enter 2st string\"))\r\n",
    "print(\"before swap a= \",a,\" b=\",b)\r\n",
    "a,b=b,a\r\n",
    "print(\"after swap a= \",a,\" b=\",b)"
   ],
   "outputs": [
    {
     "output_type": "stream",
     "name": "stdout",
     "text": [
      "before swap a=  Knull  b= Venom\n",
      "after swap a=  Venom  b= Knull\n"
     ]
    }
   ],
   "metadata": {}
  },
  {
   "cell_type": "markdown",
   "source": [
    "1b) To elaborate mathematical operations such as addition, subtraction, multiplication, division, modulo, and power; also explore the operator precedence."
   ],
   "metadata": {}
  },
  {
   "cell_type": "code",
   "execution_count": 1,
   "source": [
    "a=int(input(\"enter 1st value\"))\r\n",
    "b=int(input(\"enter 2st value\"))\r\n",
    "sum=a+b\r\n",
    "diff=a-b\r\n",
    "prod=a*b\r\n",
    "div=a/b\r\n",
    "pow=a**b\r\n",
    "flr=a//b\r\n",
    "rem=a%b\r\n",
    "print(\"sum of {0},{1} is {2}\".format(a,b,sum))\r\n",
    "print(\"prod of {0},{1} is {2}\".format(a,b,prod))\r\n",
    "print(\"diff of {0},{1} is {2}\".format(a,b,diff))\r\n",
    "print(\"div of {0},{1} is {2}\".format(a,b,div))\r\n",
    "print(\"pow of {0},{1} is {2}\".format(a,b,pow))\r\n",
    "print(\"flr of {0},{1} is {2}\".format(a,b,flr))\r\n",
    "print(\"rem of {0},{1} is {2}\".format(a,b,rem))"
   ],
   "outputs": [
    {
     "output_type": "stream",
     "name": "stdout",
     "text": [
      "sum of 10,4 is 14\n",
      "prod of 10,4 is 40\n",
      "diff of 10,4 is 6\n",
      "div of 10,4 is 2.5\n",
      "pow of 10,4 is 10000\n",
      "flr of 10,4 is 2\n",
      "rem of 10,4 is 2\n"
     ]
    }
   ],
   "metadata": {}
  },
  {
   "cell_type": "code",
   "execution_count": 19,
   "source": [
    "a=4\r\n",
    "b=3\r\n",
    "c=2\r\n",
    "d=1\r\n",
    "r1=((a+b)*c)/d\r\n",
    "r2=(a+b)*c/d\r\n",
    "r3=a+(b*c)/d\r\n",
    "r4=(a+b)*(c/d)\r\n",
    "print(\"value of r1 is {0} \\nvalue of r2 is {1} \\nvalue of r3 is {2}\\nvalue of r4 is {3}\".format(r1,r2,r3,r4))"
   ],
   "outputs": [
    {
     "output_type": "stream",
     "name": "stdout",
     "text": [
      "value of r1 is 14.0 \n",
      "value of r2 is 14.0 \n",
      "value of r3 is 10.0\n",
      "value of r4 is 14.0\n"
     ]
    }
   ],
   "metadata": {}
  }
 ],
 "metadata": {
  "orig_nbformat": 4,
  "language_info": {
   "name": "python",
   "version": "3.9.6",
   "mimetype": "text/x-python",
   "codemirror_mode": {
    "name": "ipython",
    "version": 3
   },
   "pygments_lexer": "ipython3",
   "nbconvert_exporter": "python",
   "file_extension": ".py"
  },
  "kernelspec": {
   "name": "python3",
   "display_name": "Python 3.9.6 64-bit"
  },
  "interpreter": {
   "hash": "914794eea6c5c358b287f920388a6340f4a8d6e41ce9f2a03c347040325d532a"
  }
 },
 "nbformat": 4,
 "nbformat_minor": 2
}