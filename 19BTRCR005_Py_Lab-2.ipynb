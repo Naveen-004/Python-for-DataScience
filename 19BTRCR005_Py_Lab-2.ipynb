{
 "cells": [
  {
   "cell_type": "markdown",
   "source": [
    "                                                                                                                                    M.R.Naveen Kumar\r\n",
    "                                                                                                                                         19BTRCR005"
   ],
   "metadata": {}
  },
  {
   "cell_type": "code",
   "execution_count": 16,
   "source": [
    "n=int(input('Enter a value='))\r\n",
    "i=1\r\n",
    "sum=0\r\n",
    "while(i<=n):\r\n",
    "    sum=sum+i\r\n",
    "    i=i+1\r\n",
    "print('Sum of',n,'=',sum)\r\n",
    "print('Average',sum/n)"
   ],
   "outputs": [
    {
     "output_type": "stream",
     "name": "stdout",
     "text": [
      "Sum of 10 = 55\n",
      "Average 5.5\n"
     ]
    }
   ],
   "metadata": {}
  },
  {
   "cell_type": "code",
   "execution_count": 17,
   "source": [
    "def factorial(n):\r\n",
    "    if(n<0):\r\n",
    "        print(\"fact is invalid\")\r\n",
    "    elif(n==0):\r\n",
    "        print('It is 1')\r\n",
    "    else:\r\n",
    "        i=1\r\n",
    "        fact=1\r\n",
    "        while(i<=n):\r\n",
    "            fact=fact*i\r\n",
    "            i=i+1\r\n",
    "        return fact\r\n",
    "\r\n",
    "factorial(6)"
   ],
   "outputs": [
    {
     "output_type": "execute_result",
     "data": {
      "text/plain": [
       "720"
      ]
     },
     "metadata": {},
     "execution_count": 17
    }
   ],
   "metadata": {}
  },
  {
   "cell_type": "code",
   "execution_count": 19,
   "source": [
    "def recur_factorial(n):\r\n",
    "   if n == 1:\r\n",
    "       return n\r\n",
    "   else:\r\n",
    "       return n*recur_factorial(n-1)\r\n",
    "\r\n",
    "num = int(input('Enter a value:'))\r\n",
    "\r\n",
    "if num < 0:\r\n",
    "   print(\"No Fact for 0\")\r\n",
    "elif num == 0:\r\n",
    "   print(\"The factorial of 0 is 1\")\r\n",
    "else:\r\n",
    "   print(\"The factorial of\", num, \"is\", recur_factorial(num))"
   ],
   "outputs": [
    {
     "output_type": "stream",
     "name": "stdout",
     "text": [
      "The factorial of 8 is 40320\n"
     ]
    }
   ],
   "metadata": {}
  },
  {
   "cell_type": "code",
   "execution_count": 20,
   "source": [
    "nterms = int(input(\"No of Terms: \"))\r\n",
    "\r\n",
    "n1, n2 = 0, 1\r\n",
    "count = 0\r\n",
    "\r\n",
    "if nterms <= 0:\r\n",
    "   print(\"Invaild\")\r\n",
    "elif nterms == 1:\r\n",
    "   print(\"Fibonacci sequence upto\",nterms,\":\")\r\n",
    "   print(n1)\r\n",
    "else:\r\n",
    "   print(\"Fibonacci sequence:\")\r\n",
    "   while count < nterms:\r\n",
    "       print(n1)\r\n",
    "       fib = n1 + n2\r\n",
    "       n1 = n2\r\n",
    "       n2 = fib\r\n",
    "       count += 1"
   ],
   "outputs": [
    {
     "output_type": "stream",
     "name": "stdout",
     "text": [
      "Fibonacci sequence:\n",
      "0\n",
      "1\n",
      "1\n",
      "2\n",
      "3\n",
      "5\n"
     ]
    }
   ],
   "metadata": {}
  },
  {
   "cell_type": "code",
   "execution_count": 22,
   "source": [
    "def recur_fibo(n):\r\n",
    "   if n <= 1:\r\n",
    "       return n\r\n",
    "   else:\r\n",
    "       return(recur_fibo(n-1) + recur_fibo(n-2))\r\n",
    "\r\n",
    "nterms = int(input('Enter a value:'))\r\n",
    "\r\n",
    "if nterms <= 0:\r\n",
    "   print(\"Invalid\")\r\n",
    "else:\r\n",
    "   print(\"Fibonacci sequence:\")\r\n",
    "   for i in range(nterms):\r\n",
    "       print(recur_fibo(i))"
   ],
   "outputs": [
    {
     "output_type": "stream",
     "name": "stdout",
     "text": [
      "Fibonacci sequence:\n",
      "0\n",
      "1\n",
      "1\n",
      "2\n",
      "3\n",
      "5\n",
      "8\n",
      "13\n",
      "21\n"
     ]
    }
   ],
   "metadata": {}
  }
 ],
 "metadata": {
  "orig_nbformat": 4,
  "language_info": {
   "name": "python",
   "version": "3.9.6",
   "mimetype": "text/x-python",
   "codemirror_mode": {
    "name": "ipython",
    "version": 3
   },
   "pygments_lexer": "ipython3",
   "nbconvert_exporter": "python",
   "file_extension": ".py"
  },
  "kernelspec": {
   "name": "python3",
   "display_name": "Python 3.9.6 64-bit"
  },
  "interpreter": {
   "hash": "914794eea6c5c358b287f920388a6340f4a8d6e41ce9f2a03c347040325d532a"
  }
 },
 "nbformat": 4,
 "nbformat_minor": 2
}