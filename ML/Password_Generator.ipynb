{
 "cells": [
  {
   "cell_type": "code",
   "execution_count": 5,
   "source": [
    "import random\r\n",
    "low = \"abcdefghijklmnopqrstuvwxyz\"\r\n",
    "up = \"ABCDEFGHIJKLMNOPQRSTUVWXYZ\"\r\n",
    "num = \"1234567890\"\r\n",
    "symb = \"{}[]()@!$%#^&*?,.;:=+-_/\"\r\n",
    "length = 16\r\n",
    "all = low + up + num + symb\r\n",
    "password = \"\".join(random.sample(all,length))\r\n",
    "print(password)"
   ],
   "outputs": [
    {
     "output_type": "stream",
     "name": "stdout",
     "text": [
      "QY!Xirs07LWEdM(K\n"
     ]
    }
   ],
   "metadata": {}
  }
 ],
 "metadata": {
  "orig_nbformat": 4,
  "language_info": {
   "name": "python",
   "version": "3.9.6",
   "mimetype": "text/x-python",
   "codemirror_mode": {
    "name": "ipython",
    "version": 3
   },
   "pygments_lexer": "ipython3",
   "nbconvert_exporter": "python",
   "file_extension": ".py"
  },
  "kernelspec": {
   "name": "python3",
   "display_name": "Python 3.9.6 64-bit"
  },
  "interpreter": {
   "hash": "914794eea6c5c358b287f920388a6340f4a8d6e41ce9f2a03c347040325d532a"
  }
 },
 "nbformat": 4,
 "nbformat_minor": 2
}