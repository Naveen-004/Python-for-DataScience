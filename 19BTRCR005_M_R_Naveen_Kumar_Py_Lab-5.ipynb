{
 "cells": [
  {
   "cell_type": "markdown",
   "source": [
    "<h1><div align=center>PYTHON FOR DATA SCIENCE LAB</div> </h1>\r\n",
    "<h3><div align=right><b><u>Name: </u></b>M.R.Naveen Kumar\r\n",
    "<div align=right><b><u>USN: </u></b> 19BTRCR005"
   ],
   "metadata": {}
  },
  {
   "cell_type": "markdown",
   "source": [
    "Write python program to elaborate strings such as\r\n",
    "\r\n",
    "a.\tString declaration, traversing, slicing, concatenating, and sorting in a list.\r\n",
    "\r\n",
    "b.\tTo check whether a string is palindrome or not; to remove punctuations from a string."
   ],
   "metadata": {}
  },
  {
   "cell_type": "code",
   "execution_count": 10,
   "source": [
    "str1 = 'Eddie'\r\n",
    "str2 = '''Venom'''"
   ],
   "outputs": [],
   "metadata": {}
  },
  {
   "cell_type": "code",
   "execution_count": 16,
   "source": [
    "#Traversing\r\n",
    "for i in str1 :\r\n",
    "     print('Char {}'.format(i))"
   ],
   "outputs": [
    {
     "output_type": "stream",
     "name": "stdout",
     "text": [
      "Char E\n",
      "Char d\n",
      "Char d\n",
      "Char i\n",
      "Char e\n"
     ]
    }
   ],
   "metadata": {}
  },
  {
   "cell_type": "code",
   "execution_count": 15,
   "source": [
    "#Slicing, oncatenating,\r\n",
    "print('''Slicing from 1st index to 2nd index: {}\r\n",
    "Accessing last character: {}\r\n",
    "Using step parameter: {}\r\n",
    "Concatenation of Strings: {}\r\n",
    "Multiplying String {}'''\r\n",
    ".format(str1[1:3],str1[-1],str1[0:5:2],str2+str1,str2*3))"
   ],
   "outputs": [
    {
     "output_type": "stream",
     "name": "stdout",
     "text": [
      "Slicing from 1st index to 2nd index: dd\n",
      "Accessing last character: e\n",
      "Using step parameter: Ede\n",
      "Concatenation of Strings: VenomEddie\n",
      "Multiplying String VenomVenomVenom\n"
     ]
    }
   ],
   "metadata": {}
  },
  {
   "cell_type": "code",
   "execution_count": 19,
   "source": [
    "# sorting in a list.\r\n",
    "lst = ['a', 'he', 'she', 'abc', 'meeee', 'idk']\r\n",
    "  \r\n",
    "# Using sorted() function\r\n",
    "for i in sorted(lst):\r\n",
    "    print(i)"
   ],
   "outputs": [
    {
     "output_type": "stream",
     "name": "stdout",
     "text": [
      "a\n",
      "abc\n",
      "he\n",
      "idk\n",
      "meeee\n",
      "she\n"
     ]
    }
   ],
   "metadata": {}
  },
  {
   "cell_type": "code",
   "execution_count": 25,
   "source": [
    "#palindrome\r\n",
    "strn=input('Enter the string:')\r\n",
    "str=strn.casefold()\r\n",
    "rev_str=str[::-1]\r\n",
    "if (rev_str==str):\r\n",
    "    print(\"Given string {} is palindrome\".format(strn))\r\n",
    "else:\r\n",
    "    print(\"Given string {} is Not palindrome\".format(strn))"
   ],
   "outputs": [
    {
     "output_type": "stream",
     "name": "stdout",
     "text": [
      "Given string LOL is palindrome\n"
     ]
    }
   ],
   "metadata": {}
  },
  {
   "cell_type": "code",
   "execution_count": 8,
   "source": [
    "# remove punctuations from a string.\r\n",
    "punc='''!()`~{}[];:'\"\\,<>./?@#%*_'''\r\n",
    "str=input('Enter the String: ')\r\n",
    "print('Original String: {}'.format(str))\r\n",
    "no_punc=''\r\n",
    "for char in str:\r\n",
    "    if char not in punc:\r\n",
    "        no_punc = no_punc + char\r\n",
    "print('Modified String: {}'.format(no_punc))"
   ],
   "outputs": [
    {
     "output_type": "stream",
     "name": "stdout",
     "text": [
      "Original String: I Don't Know,.???\n",
      "Modified String: I Dont Know\n"
     ]
    }
   ],
   "metadata": {}
  }
 ],
 "metadata": {
  "orig_nbformat": 4,
  "language_info": {
   "name": "python",
   "version": "3.9.6",
   "mimetype": "text/x-python",
   "codemirror_mode": {
    "name": "ipython",
    "version": 3
   },
   "pygments_lexer": "ipython3",
   "nbconvert_exporter": "python",
   "file_extension": ".py"
  },
  "kernelspec": {
   "name": "python3",
   "display_name": "Python 3.9.6 64-bit"
  },
  "interpreter": {
   "hash": "914794eea6c5c358b287f920388a6340f4a8d6e41ce9f2a03c347040325d532a"
  }
 },
 "nbformat": 4,
 "nbformat_minor": 2
}