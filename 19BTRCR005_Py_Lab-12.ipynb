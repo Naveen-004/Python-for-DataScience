{
 "cells": [
  {
   "cell_type": "markdown",
   "metadata": {},
   "source": [
    "                                                                                                                                                                M.R.Naveen Kumar\n",
    "                                                                                                                                                                 19BTRCR005"
   ]
  },
  {
   "cell_type": "markdown",
   "metadata": {},
   "source": [
    "<h2> 12. Write python programs for following graphical object"
   ]
  },
  {
   "cell_type": "markdown",
   "metadata": {},
   "source": [
    "<h4>a. Draw the target symbol (a set of concentric squares, alteranting red and white) in a graphics window, that is, 200 pixels wide by 200 pixels high"
   ]
  },
  {
   "cell_type": "code",
   "execution_count": 1,
   "metadata": {},
   "outputs": [],
   "source": [
    "import matplotlib.pyplot as plt"
   ]
  },
  {
   "cell_type": "code",
   "execution_count": 2,
   "metadata": {},
   "outputs": [
    {
     "data": {
      "image/png": "[encoded data removed]",
      "text/plain": [
       "<Figure size 432x288 with 1 Axes>"
      ]
     },
     "metadata": {
      "needs_background": "light"
     },
     "output_type": "display_data"
    }
   ],
   "source": [
    "rect = plt.Rectangle((0,0),200,200,fc ='r')\n",
    "plt.gca().add_patch(rect)\n",
    "\n",
    "rect = plt.Rectangle((50,50),100,100, fc='w')\n",
    "plt.gca().add_patch(rect)\n",
    "\n",
    "rect = plt.Rectangle((75,75),50,50, fc='r')\n",
    "plt.gca().add_patch(rect)\n",
    "\n",
    "plt.axis('scaled')\n",
    "plt.show()"
   ]
  },
  {
   "cell_type": "markdown",
   "metadata": {},
   "source": [
    "<h4> b. Create 5x5 rectangle whose top left corner is at (row5,col5). If the sum of the rows and columns number is even, set the fill color of the rectangle to white, otehrwise set it to the black. Then draw the image"
   ]
  },
  {
   "cell_type": "code",
   "execution_count": 3,
   "metadata": {},
   "outputs": [
    {
     "data": {
      "image/png": "[encoded data removed]",
      "text/plain": [
       "<Figure size 432x288 with 1 Axes>"
      ]
     },
     "metadata": {
      "needs_background": "light"
     },
     "output_type": "display_data"
    }
   ],
   "source": [
    "plt.figure()\n",
    "plt.axis([0,25,0,25])\n",
    "curr = plt.gca()\n",
    "\n",
    "for i in range(0,5):\n",
    "    for j in range(0,5):\n",
    "        if((i+j) % 2 == 0):\n",
    "            curr.add_patch(plt.Rectangle((i*5,j*5), 5, 5, color='white'))\n",
    "        else:\n",
    "            curr.add_patch(plt.Rectangle((i*5,j*5), 5, 5, color='black'))\n",
    "plt.show()"
   ]
  }
 ],
 "metadata": {
  "interpreter": {
   "hash": "914794eea6c5c358b287f920388a6340f4a8d6e41ce9f2a03c347040325d532a"
  },
  "kernelspec": {
   "display_name": "Python 3.9.6 64-bit",
   "name": "python3"
  },
  "language_info": {
   "codemirror_mode": {
    "name": "ipython",
    "version": 3
   },
   "file_extension": ".py",
   "mimetype": "text/x-python",
   "name": "python",
   "nbconvert_exporter": "python",
   "pygments_lexer": "ipython3",
   "version": "3.9.6"
  }
 },
 "nbformat": 4,
 "nbformat_minor": 2
}
