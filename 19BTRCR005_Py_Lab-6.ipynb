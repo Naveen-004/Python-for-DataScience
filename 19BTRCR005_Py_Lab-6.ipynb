{
 "cells": [
  {
   "cell_type": "markdown",
   "source": [
    "<h1><div align=center>PYTHON FOR DATA SCIENCE LAB</div> </h1>\r\n",
    "<h3><div align=right><b><u>Name: </u></b>M.R.Naveen Kumar\r\n",
    "<div align=right><b><u>USN: </u></b> 19BTRCR005"
   ],
   "metadata": {}
  },
  {
   "cell_type": "markdown",
   "source": [
    "6.Write python program\r\n",
    "a.To elaborate lists with the operations such as creating, navigating, slicing, adding or removing elements, etc.\r\n",
    "\r\n",
    "b.To elaborate tuples with the operations as in above assignment.\r\n",
    "\r\n",
    "c.To elaborate dictionaries with the operations such as given above.\r\n"
   ],
   "metadata": {}
  },
  {
   "cell_type": "markdown",
   "source": [
    "6(a):Lists:\r\n",
    "\r\n",
    "Creating a list\r\n",
    "\r\n",
    "Traversing a list\r\n",
    "\r\n",
    "Slicing \r\n",
    "\r\n",
    "Methods used in lists:\r\n",
    "\r\n",
    "insert(),append(),extend(),pop(),remove(),clear(),del(),index()\r\n",
    "copy() [ check for both aliasing and cloning],sort(),reverse()\r\n"
   ],
   "metadata": {}
  },
  {
   "cell_type": "code",
   "execution_count": 57,
   "source": [
    "l = [\"a\",'b',1,True,'Venom','Eddie']\r\n",
    "print('Navigating 2nd Index value - {} and 5th Index value - {}'.format(l[2],l[5]))\r\n",
    "#Traversing\r\n",
    "print(\"----Traversing a list----\")\r\n",
    "for i in l:\r\n",
    "    print(i)\r\n",
    "print(\"----End of Traversing----\")\r\n",
    "#slicing\r\n",
    "print('Slicing from 2nd Index to 6th Index- {}'.format(l[2:6]))\r\n",
    "#adding and removing element\r\n",
    "l.insert(7,10)\r\n",
    "print('Inserted a value 10 in Index 7 - {} '.format(l))\r\n",
    "l.remove(1)\r\n",
    "print('Removed a value 1 in defined List - {} '.format(l))\r\n",
    "s=['c','d']\r\n",
    "l.extend(s)\r\n",
    "print('Extented list named l with list named s - {} '.format(l))\r\n",
    "l.pop()\r\n",
    "print('pop() will remove the last element in the List - {}'.format(l))\r\n",
    "del(s) #deletes the list s\r\n",
    "print('Index value of Element Venom - {}'.format(l.index('Venom')))\r\n",
    "n=['me','you',\"us\"]\r\n",
    "print(f'List named n {n}')\r\n",
    "print('clear() function empties the List - {}'.format(n.clear()))\r\n",
    "v=['a','b']\r\n",
    "b=v.copy()#aliasing\r\n",
    "print(v,b)\r\n",
    "print('list b copies v - {}'.format(b))\r\n",
    "print('Id of v {} and Id of b {} '.format(id(v),id(b)))\r\n",
    "x=b #cloning\r\n",
    "print('Id of x {} and Id of b {} '.format(id(x),id(b)))\r\n",
    "u = [3,7,1,5,6,] \r\n",
    "u.sort()\r\n",
    "print(f'sorting a list - {u}')\r\n",
    "u.reverse()\r\n",
    "print(f'Reversing a list - {u}')\r\n",
    "print(f'Minimum value {min(u)}')\r\n",
    "print(f'Minimum value {max(u)}')"
   ],
   "outputs": [
    {
     "output_type": "stream",
     "name": "stdout",
     "text": [
      "Navigating 2nd Index value - 1 and 5th Index value - Eddie\n",
      "----Traversing a list----\n",
      "a\n",
      "b\n",
      "1\n",
      "True\n",
      "Venom\n",
      "Eddie\n",
      "----End of Traversing----\n",
      "Slicing from 2nd Index to 6th Index- [1, True, 'Venom', 'Eddie']\n",
      "Inserted a value 10 in Index 7 - ['a', 'b', 1, True, 'Venom', 'Eddie', 10] \n",
      "Removed a value 1 in defined List - ['a', 'b', True, 'Venom', 'Eddie', 10] \n",
      "Extented list named l with list named s - ['a', 'b', True, 'Venom', 'Eddie', 10, 'c', 'd'] \n",
      "pop() will remove the last element in the List - ['a', 'b', True, 'Venom', 'Eddie', 10, 'c']\n",
      "Index value of Element Venom - 3\n",
      "List named n ['me', 'you', 'us']\n",
      "clear() function empties the List - None\n",
      "['a', 'b'] ['a', 'b']\n",
      "list b copies v - ['a', 'b']\n",
      "Id of v 1984234910592 and Id of b 1984234911104 \n",
      "Id of x 1984234911104 and Id of b 1984234911104 \n",
      "sorting a list - [1, 3, 5, 6, 7]\n",
      "Reversing a list - [7, 6, 5, 3, 1]\n",
      "Minimum value 1\n",
      "Minimum value 7\n"
     ]
    }
   ],
   "metadata": {}
  },
  {
   "cell_type": "markdown",
   "source": [
    "6(b):Tuples:\r\n",
    "Creating tuple (Also check for creating tuple with one item)\r\n",
    "\r\n",
    "Accessing, Traversing, Updating\r\n",
    "\r\n",
    "Concatenation, repetition, membership operations\r\n",
    "\r\n",
    "index() and count() methods\r\n",
    "max(),min(),len() functions\r\n",
    "deleting tuple\r\n"
   ],
   "metadata": {}
  },
  {
   "cell_type": "code",
   "execution_count": 82,
   "source": [
    "t = ('a','b',5,True)\r\n",
    "m = ('r')\r\n",
    "print(t,m)\r\n",
    "print(\"Accessing the a element from tuple 't' - {}\".format(t[1]))\r\n",
    "#traversing\r\n",
    "print(\"----Traversing a tuple----\")\r\n",
    "for i in t:\r\n",
    "    print(i)\r\n",
    "print(\"----End of Traversing----\")\r\n",
    "#Updating --Tuples are immutable which means you cannot update or change the values of tuple elements.\r\n",
    "a=(2,3,4)\r\n",
    "i= t+a #concatination\r\n",
    "print('New tuple - {}'.format(i))\r\n",
    "del a #deletes tuple named a\r\n",
    "#membership operations\r\n",
    "print(\"----Membership Operation----\")\r\n",
    "list1=[1,2,3,4,5]\r\n",
    "list2=[6,7,8,9]\r\n",
    "for item in list1:\r\n",
    "    if item in list2:\r\n",
    "        print(\"overlapping\")     \r\n",
    "else:\r\n",
    "    print(\"not overlapping\")\r\n",
    "print(\"----End of Membership Operation----\")\r\n",
    "#repetition\r\n",
    "a=(2,3,4)\r\n",
    "print(f'Tuple \"a\" - {a}')\r\n",
    "print('Repetiton of tuple - {}'.format(a*3))\r\n",
    "#index\r\n",
    "j=(\"a\",'b',1,True,'Venom','Eddie')\r\n",
    "print('tuple j - {}'.format(j))\r\n",
    "print(f'Index of value \"1\"- {j.index(1)}')\r\n",
    "#count\r\n",
    "print('Length of tuple - {}'.format(len(j)))\r\n",
    "# min max\r\n",
    "k =(5,8,4,9)\r\n",
    "print('Minimum value - {}'.format(min(k)))\r\n",
    "print('Maximum value - {}'.format(max(k)))\r\n",
    "#count\r\n",
    "l=(1,1,1,4,5,7,9,1,5,7)\r\n",
    "print('counting a value \"5\" in a tuple \"l\" - {}'.format(l.count(5)))"
   ],
   "outputs": [
    {
     "output_type": "stream",
     "name": "stdout",
     "text": [
      "('a', 'b', 5, True) r\n",
      "Accessing the a element from tuple 't' - b\n",
      "----Traversing a tuple----\n",
      "a\n",
      "b\n",
      "5\n",
      "True\n",
      "----End of Traversing----\n",
      "New tuple - ('a', 'b', 5, True, 2, 3, 4)\n",
      "----Membership Operation----\n",
      "not overlapping\n",
      "----End of Membership Operation----\n",
      "Tuple \"a\" - (2, 3, 4)\n",
      "Repetiton of tuple - (2, 3, 4, 2, 3, 4, 2, 3, 4)\n",
      "tuple j - ('a', 'b', 1, True, 'Venom', 'Eddie')\n",
      "Index of value \"1\"- 2\n",
      "Length of tuple - 6\n",
      "Minimum value - 4\n",
      "Maximum value - 9\n",
      "counting a value \"5\" in a tuple \"l\" - 2\n"
     ]
    }
   ],
   "metadata": {}
  },
  {
   "cell_type": "markdown",
   "source": [
    "\r\n",
    "6c:Dictionaries:\r\n",
    "\r\n",
    "Creating dictionaries,\r\n",
    "\r\n",
    "Accessing elements\r\n",
    "\r\n",
    "keys(),values(),items(),update(),copy(),sort(),pop(),popitem(),clear()\r\n",
    "deleting dictionary\r\n"
   ],
   "metadata": {}
  },
  {
   "cell_type": "code",
   "execution_count": 6,
   "source": [
    "#Creating a dictionary\r\n",
    "power_ranks={ 1:\"Knull\", 2:'Anti-Venom', 3:\"Carnage\", 4:\"Roit\", 5:'Venom'}\r\n",
    "print(power_ranks)\r\n",
    "\r\n",
    "#Accessing a dictionary\r\n",
    "a = power_ranks[5]\r\n",
    "print(a)\r\n",
    "\r\n",
    "#keys(): This method returns the keys of the dictionary, as a list.  \r\n",
    "x = power_ranks.keys()\r\n",
    "print(x)\r\n",
    "\r\n",
    "#values(): This method returns the values of the dictionary, as a list.  \r\n",
    "x = power_ranks.values()\r\n",
    "print(x)\r\n",
    "\r\n",
    "#items(): This method returns the key-value pairs of the dictionary, as tuples in a list.\r\n",
    "x = power_ranks.items()\r\n",
    "print(x)\r\n",
    "\r\n",
    "#update(): This method inserts the specified items to the dictionary.\r\n",
    "new_power_ranks = {6:\"Hybrid\",7:\"Eddie\"}\r\n",
    "print(new_power_ranks) \r\n",
    "power_ranks.update(new_power_ranks)\r\n",
    "print(power_ranks)\r\n",
    "\r\n",
    "#copy(): This method returns a copy of the specified dictionary.\r\n",
    "ok = power_ranks.copy()\r\n",
    "print(ok)\r\n",
    "\r\n",
    "#sorted(): method returns a sorted sequence of the keys in the dictionary as a list\r\n",
    "dict1={3:\"Three\",4:\"Four\",1:\"One\",2:\"Two\"}\r\n",
    "dict2=sorted(dict1)\r\n",
    "print(dict2)\r\n",
    "\r\n",
    "#pop(): This method is used to remove and display an item from the dictionary. \r\n",
    "x = power_ranks.pop(4)\r\n",
    "print(x)\r\n",
    "\r\n",
    "#popitem(): This method removes the last item in the dictionary\r\n",
    "dict2={3:\"Three\",4:\"Four\",1:\"One\",2:\"Two\", 5:\"Five\"}\r\n",
    "x=dict2.popitem()\r\n",
    "print(x)\r\n",
    "\r\n",
    "#clear(): This method method removes all the elements from a dictionary.\r\n",
    "power_ranks.clear()\r\n",
    "print(power_ranks)"
   ],
   "outputs": [
    {
     "output_type": "stream",
     "name": "stdout",
     "text": [
      "{1: 'Knull', 2: 'Anti-Venom', 3: 'Carnage', 4: 'Roit', 5: 'Venom'}\n",
      "Venom\n",
      "dict_keys([1, 2, 3, 4, 5])\n",
      "dict_values(['Knull', 'Anti-Venom', 'Carnage', 'Roit', 'Venom'])\n",
      "dict_items([(1, 'Knull'), (2, 'Anti-Venom'), (3, 'Carnage'), (4, 'Roit'), (5, 'Venom')])\n",
      "{6: 'Hybrid', 7: 'Eddie'}\n",
      "{1: 'Knull', 2: 'Anti-Venom', 3: 'Carnage', 4: 'Roit', 5: 'Venom', 6: 'Hybrid', 7: 'Eddie'}\n",
      "{1: 'Knull', 2: 'Anti-Venom', 3: 'Carnage', 4: 'Roit', 5: 'Venom', 6: 'Hybrid', 7: 'Eddie'}\n",
      "[1, 2, 3, 4]\n",
      "Roit\n",
      "(5, 'Five')\n",
      "{}\n"
     ]
    }
   ],
   "metadata": {}
  },
  {
   "cell_type": "code",
   "execution_count": null,
   "source": [],
   "outputs": [],
   "metadata": {}
  }
 ],
 "metadata": {
  "orig_nbformat": 4,
  "language_info": {
   "name": "python",
   "version": "3.9.6",
   "mimetype": "text/x-python",
   "codemirror_mode": {
    "name": "ipython",
    "version": 3
   },
   "pygments_lexer": "ipython3",
   "nbconvert_exporter": "python",
   "file_extension": ".py"
  },
  "kernelspec": {
   "name": "python3",
   "display_name": "Python 3.9.6 64-bit"
  },
  "interpreter": {
   "hash": "914794eea6c5c358b287f920388a6340f4a8d6e41ce9f2a03c347040325d532a"
  }
 },
 "nbformat": 4,
 "nbformat_minor": 2
}