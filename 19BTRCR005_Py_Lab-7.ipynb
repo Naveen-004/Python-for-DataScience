{
 "cells": [
  {
   "cell_type": "markdown",
   "source": [
    "<h1><div align=center>PYTHON FOR DATA SCIENCE LAB</div> </h1>\r\n",
    "<h3><div align=right><b><u>Name: </u></b>M.R.Naveen Kumar\r\n",
    "<div align=right><b><u>USN: </u></b> 19BTRCR005"
   ],
   "metadata": {}
  },
  {
   "cell_type": "markdown",
   "source": [
    "Write Python program using NumPy\r\n",
    "\r\n",
    "a. To find the addition of two matrices\r\n",
    "\r\n",
    "b. To find the product of two matrices\r\n",
    "\r\n",
    "c. To find the transpose of a matrix\r\n"
   ],
   "metadata": {}
  },
  {
   "cell_type": "code",
   "execution_count": 3,
   "source": [
    "import numpy as np\r\n",
    "\r\n",
    "arr1 = np.array([[1,2],[3,4]])\r\n",
    "arr2 = np.array([[5,6],[7,8]])\r\n",
    "print(arr1,\"\\n\",arr2)"
   ],
   "outputs": [
    {
     "output_type": "stream",
     "name": "stdout",
     "text": [
      "[[1 2]\n",
      " [3 4]] \n",
      " [[5 6]\n",
      " [7 8]]\n"
     ]
    }
   ],
   "metadata": {}
  },
  {
   "cell_type": "code",
   "execution_count": 14,
   "source": [
    "print(\"Array Matrix addition- \\n{}\".format(arr1+arr2))"
   ],
   "outputs": [
    {
     "output_type": "stream",
     "name": "stdout",
     "text": [
      "Array Matrix addition- \n",
      "[[ 6  8]\n",
      " [10 12]]\n"
     ]
    }
   ],
   "metadata": {}
  },
  {
   "cell_type": "code",
   "execution_count": 11,
   "source": [
    "#using add() function\r\n",
    "print(\"Array Matrix addition- \\n{}\".format(np.add(arr1,arr2)))"
   ],
   "outputs": [
    {
     "output_type": "stream",
     "name": "stdout",
     "text": [
      "Array Matrix addition- \n",
      "[[ 6  8]\n",
      " [10 12]]\n"
     ]
    }
   ],
   "metadata": {}
  },
  {
   "cell_type": "code",
   "execution_count": 12,
   "source": [
    "print (\"The element wise multiplication of matrix is - \\n{} \".format(np.multiply(arr1,arr2)))"
   ],
   "outputs": [
    {
     "output_type": "stream",
     "name": "stdout",
     "text": [
      "The element wise multiplication of matrix is - \n",
      "[[ 5 12]\n",
      " [21 32]] \n"
     ]
    }
   ],
   "metadata": {}
  },
  {
   "cell_type": "code",
   "execution_count": 13,
   "source": [
    "print (\"The Product of matrix is - \\n{} \".format(np.dot(arr1,arr2)))"
   ],
   "outputs": [
    {
     "output_type": "stream",
     "name": "stdout",
     "text": [
      "The Product of matrix is - \n",
      "[[19 22]\n",
      " [43 50]] \n"
     ]
    }
   ],
   "metadata": {}
  },
  {
   "cell_type": "code",
   "execution_count": 10,
   "source": [
    "mat1 = np.matrix(((1,2),(3,4)))\r\n",
    "mat2 = np.matrix(((5,6),(7,8)))\r\n",
    "\r\n",
    "add = mat1+mat2\r\n",
    "dot = mat1*mat2\r\n",
    "\r\n",
    "print(\"Addition of two matrices - \\n{}\".format(add))\r\n",
    "print(\"\\nProduct of two matrices - \\n{}\".format(dot))\r\n"
   ],
   "outputs": [
    {
     "output_type": "stream",
     "name": "stdout",
     "text": [
      "Addition of two matrices - \n",
      "[[ 6  8]\n",
      " [10 12]]\n",
      "\n",
      "Product of two matrices - \n",
      "[[19 22]\n",
      " [43 50]]\n"
     ]
    }
   ],
   "metadata": {}
  },
  {
   "cell_type": "code",
   "execution_count": 18,
   "source": [
    "mat3 = np.matrix(((1,2,3),(4,5,6)))\r\n",
    "print(mat3)\r\n",
    "print(\"\\nTranspose of the matrix - \\n{}\".format(mat3.T))"
   ],
   "outputs": [
    {
     "output_type": "stream",
     "name": "stdout",
     "text": [
      "[[1 2 3]\n",
      " [4 5 6]]\n",
      "\n",
      "Transpose of the matrix - \n",
      "[[1 4]\n",
      " [2 5]\n",
      " [3 6]]\n"
     ]
    }
   ],
   "metadata": {}
  },
  {
   "cell_type": "code",
   "execution_count": null,
   "source": [],
   "outputs": [],
   "metadata": {}
  }
 ],
 "metadata": {
  "orig_nbformat": 4,
  "language_info": {
   "name": "python",
   "version": "3.9.6",
   "mimetype": "text/x-python",
   "codemirror_mode": {
    "name": "ipython",
    "version": 3
   },
   "pygments_lexer": "ipython3",
   "nbconvert_exporter": "python",
   "file_extension": ".py"
  },
  "kernelspec": {
   "name": "python3",
   "display_name": "Python 3.9.6 64-bit"
  },
  "interpreter": {
   "hash": "914794eea6c5c358b287f920388a6340f4a8d6e41ce9f2a03c347040325d532a"
  }
 },
 "nbformat": 4,
 "nbformat_minor": 2
}