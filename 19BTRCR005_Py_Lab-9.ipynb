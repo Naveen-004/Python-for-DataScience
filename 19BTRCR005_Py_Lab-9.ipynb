{
 "cells": [
  {
   "cell_type": "markdown",
   "source": [
    "<h1><div align=center>PYTHON FOR DATA SCIENCE LAB</div> </h1>\r\n",
    "<h3><div align=right><b><u>Name: </u></b>M.R.Naveen Kumar\r\n",
    "<div align=right><b><u>USN: </u></b> 19BTRCR005"
   ],
   "metadata": {}
  },
  {
   "cell_type": "markdown",
   "source": [
    "Write Python program\r\n",
    "\r\n",
    "a. To elaborate file operations such as, opening a file, reading from it, writing into it,\r\n",
    "closing it, and various file methods.\r\n",
    "\r\n",
    "open,read,readline,readlines,write,writelines"
   ],
   "metadata": {}
  },
  {
   "cell_type": "code",
   "execution_count": 1,
   "source": [
    "fp = open(\"test.txt\",'w')\r\n",
    "fp.write('Venom : Let There be Carnage\\n') \r\n",
    "fp.writelines(['Venom\\n','Eddie\\n','Shreik'])\r\n",
    "fp.close()\r\n",
    "print('written successfully')\r\n"
   ],
   "outputs": [
    {
     "output_type": "stream",
     "name": "stdout",
     "text": [
      "written successfully\n"
     ]
    }
   ],
   "metadata": {}
  },
  {
   "cell_type": "code",
   "execution_count": 5,
   "source": [
    "fp = open(\"test.txt\",'r')\r\n",
    "r=fp.read() \r\n",
    "print(r)\r\n",
    "fp.seek(0) \r\n",
    "r1=fp.read(10) \r\n",
    "print(r1)\r\n",
    "fp.seek(0)\r\n",
    "print(fp.readline()) \r\n",
    "fp.seek(0) \r\n",
    "print(fp.readlines())\r\n",
    "fp.seek(0) \r\n",
    "print(fp.readlines()[1]) \r\n",
    "fp.close() \r\n"
   ],
   "outputs": [
    {
     "output_type": "stream",
     "name": "stdout",
     "text": [
      "Venom : Let There be Carnage\n",
      "Venom\n",
      "Eddie\n",
      "Shreik\n",
      "Venom : Le\n",
      "Venom : Let There be Carnage\n",
      "\n",
      "['Venom : Let There be Carnage\\n', 'Venom\\n', 'Eddie\\n', 'Shreik']\n",
      "Venom\n",
      "\n"
     ]
    }
   ],
   "metadata": {}
  },
  {
   "cell_type": "code",
   "execution_count": 8,
   "source": [
    "with open('test.txt','w') as fp:\r\n",
    "    fp.write('We are Ven0m')\r\n",
    "print('Written Successfully and also been closed')"
   ],
   "outputs": [
    {
     "output_type": "stream",
     "name": "stdout",
     "text": [
      "Written Successfully and also been closed\n"
     ]
    }
   ],
   "metadata": {}
  },
  {
   "cell_type": "code",
   "execution_count": 9,
   "source": [
    "fp = open(\"venom.txt\", \"w\")  \r\n",
    "fp.write('''Venom springs into action when notorious serial killer Cletus Kasady transforms into the evil \r\n",
    "Carnage.''')\r\n",
    "print(\"written successfully\")   \r\n",
    "fp.close() "
   ],
   "outputs": [
    {
     "output_type": "stream",
     "name": "stdout",
     "text": [
      "written successfully\n"
     ]
    }
   ],
   "metadata": {}
  },
  {
   "cell_type": "code",
   "execution_count": 10,
   "source": [
    "\r\n",
    "fp = open(\"venom.txt\", \"a\")  \r\n",
    " \r\n",
    "fp.write(' \\nCarnage is OffSpring of Venom')\r\n",
    "print(\"written successfully\")  \r\n",
    " \r\n",
    "fp.close()\r\n",
    "print(\"appended successfully\")\r\n",
    "\r\n",
    "with open('venom.txt','r') as f:\r\n",
    "    print(f.read())"
   ],
   "outputs": [
    {
     "output_type": "stream",
     "name": "stdout",
     "text": [
      "written successfully\n",
      "appended successfully\n",
      "Venom springs into action when notorious serial killer Cletus Kasady transforms into the evil \n",
      "Carnage. \n",
      "Carnage is OffSpring of Venom\n"
     ]
    }
   ],
   "metadata": {}
  },
  {
   "cell_type": "code",
   "execution_count": 15,
   "source": [
    "with open('test.txt','r+') as f:\r\n",
    "    print(f.tell()) \r\n",
    "    print(f.read())\r\n",
    "    print('Pointer position -> ',f.tell())\r\n",
    "    f.write('\\nHey!')\r\n",
    "    f.seek(0)\r\n",
    "    print(f.read())"
   ],
   "outputs": [
    {
     "output_type": "stream",
     "name": "stdout",
     "text": [
      "0\n",
      "We are Ven0m\n",
      "Pointer position ->  12\n",
      "We are Ven0m\n",
      "Hey!\n"
     ]
    }
   ],
   "metadata": {}
  },
  {
   "cell_type": "code",
   "execution_count": 16,
   "source": [
    "with open('test.txt','a+') as f: \r\n",
    "    print(f.read())\r\n",
    "    f.write('Hey there!')\r\n",
    "    f.seek(0)\r\n",
    "    print(f.read())"
   ],
   "outputs": [
    {
     "output_type": "stream",
     "name": "stdout",
     "text": [
      "\n",
      "We are Ven0m\n",
      "Hey!Hey there!\n"
     ]
    }
   ],
   "metadata": {}
  },
  {
   "cell_type": "code",
   "execution_count": 17,
   "source": [
    "with open('test.txt','r+') as f: \r\n",
    "    print('the pointer is at ',f.tell())\r\n",
    "    f.write('Big Laugh')\r\n",
    "with open('test.txt','rb+') as fp:\r\n",
    "    print(fp.read())\r\n",
    "    print('the pointer is at ',fp.tell())\r\n",
    "    fp.seek(-3,1) \r\n",
    "    print('the pointer is at ',fp.tell())\r\n",
    "    fp.seek(5,0)\r\n",
    "    print('the pointer is at ',fp.tell())\r\n",
    "    fp.seek(5,2)\r\n",
    "    print('the pointer is at ',fp.tell())"
   ],
   "outputs": [
    {
     "output_type": "stream",
     "name": "stdout",
     "text": [
      "the pointer is at  0\n",
      "b'Big Laughn0m\\r\\nHey!Hey there!'\n",
      "the pointer is at  28\n",
      "the pointer is at  25\n",
      "the pointer is at  5\n",
      "the pointer is at  33\n"
     ]
    }
   ],
   "metadata": {}
  },
  {
   "cell_type": "code",
   "execution_count": 18,
   "source": [
    "with open('test-004.txt','x') as f:\r\n",
    "    print(f)\r\n",
    "if f:\r\n",
    "    print('file created successfully')"
   ],
   "outputs": [
    {
     "output_type": "stream",
     "name": "stdout",
     "text": [
      "<_io.TextIOWrapper name='test-004.txt' mode='x' encoding='cp1252'>\n",
      "file created successfully\n"
     ]
    }
   ],
   "metadata": {}
  },
  {
   "cell_type": "markdown",
   "source": [
    "b. To elaborate file and directory management such as creating a directory, renaming\r\n",
    "it, listing all directories and working with them."
   ],
   "metadata": {}
  },
  {
   "cell_type": "code",
   "execution_count": 19,
   "source": [
    "import os\r\n",
    "os.getcwd()"
   ],
   "outputs": [
    {
     "output_type": "execute_result",
     "data": {
      "text/plain": [
       "'d:\\\\Sem-5\\\\Python for DS'"
      ]
     },
     "metadata": {},
     "execution_count": 19
    }
   ],
   "metadata": {}
  },
  {
   "cell_type": "code",
   "execution_count": 20,
   "source": [
    "#We can also use the getcwdb() method to get it as bytes object.\r\n",
    "os.getcwdb()"
   ],
   "outputs": [
    {
     "output_type": "execute_result",
     "data": {
      "text/plain": [
       "b'd:\\\\Sem-5\\\\Python for DS'"
      ]
     },
     "metadata": {},
     "execution_count": 20
    }
   ],
   "metadata": {}
  },
  {
   "cell_type": "code",
   "execution_count": 21,
   "source": [
    "os.listdir()"
   ],
   "outputs": [
    {
     "output_type": "execute_result",
     "data": {
      "text/plain": [
       "['19BTRCR005_M_R_Naveen_Kumar_Py_Lab-1.ipynb',\n",
       " '19BTRCR005_M_R_Naveen_Kumar_Py_Lab-2.ipynb',\n",
       " '19BTRCR005_M_R_Naveen_Kumar_Py_Lab-3.ipynb',\n",
       " '19BTRCR005_M_R_Naveen_Kumar_Py_Lab-5.ipynb',\n",
       " '19BTRCR005_M_R_Naveen_Kumar_Py_Lab-6.ipynb',\n",
       " '19BTRCR005_M_R_Naveen_Kumar_Py_Lab-7.ipynb',\n",
       " 'test-004.txt',\n",
       " 'test.ipynb',\n",
       " 'test.txt',\n",
       " 'venom.txt']"
      ]
     },
     "metadata": {},
     "execution_count": 21
    }
   ],
   "metadata": {}
  },
  {
   "cell_type": "code",
   "execution_count": 22,
   "source": [
    "os.mkdir('Nothing')"
   ],
   "outputs": [],
   "metadata": {}
  },
  {
   "cell_type": "code",
   "execution_count": 23,
   "source": [
    "os.chdir('Nothing')\r\n",
    "print(os.getcwd())"
   ],
   "outputs": [
    {
     "output_type": "stream",
     "name": "stdout",
     "text": [
      "d:\\Sem-5\\Python for DS\\Nothing\n"
     ]
    }
   ],
   "metadata": {}
  },
  {
   "cell_type": "code",
   "execution_count": 24,
   "source": [
    "os.mkdir('none')\r\n",
    "os.listdir()"
   ],
   "outputs": [
    {
     "output_type": "execute_result",
     "data": {
      "text/plain": [
       "['none']"
      ]
     },
     "metadata": {},
     "execution_count": 24
    }
   ],
   "metadata": {}
  },
  {
   "cell_type": "code",
   "execution_count": 25,
   "source": [
    "os.rename('none','Completely Nothing')"
   ],
   "outputs": [],
   "metadata": {}
  },
  {
   "cell_type": "code",
   "execution_count": 27,
   "source": [
    "with open('testing','x') as f:\r\n",
    "    print(f)\r\n"
   ],
   "outputs": [
    {
     "output_type": "stream",
     "name": "stdout",
     "text": [
      "<_io.TextIOWrapper name='testing' mode='x' encoding='cp1252'>\n"
     ]
    }
   ],
   "metadata": {}
  },
  {
   "cell_type": "code",
   "execution_count": 28,
   "source": [
    "os.remove('testing')"
   ],
   "outputs": [],
   "metadata": {}
  },
  {
   "cell_type": "code",
   "execution_count": 29,
   "source": [
    "os.listdir()"
   ],
   "outputs": [
    {
     "output_type": "execute_result",
     "data": {
      "text/plain": [
       "['Completely Nothing']"
      ]
     },
     "metadata": {},
     "execution_count": 29
    }
   ],
   "metadata": {}
  },
  {
   "cell_type": "markdown",
   "source": [
    "c. To elaborate exception handing with python built in commands such as try, except,\r\n",
    "and finally."
   ],
   "metadata": {}
  },
  {
   "cell_type": "code",
   "execution_count": 21,
   "source": [
    "#Syntax error\r\n",
    "print( 'abs'"
   ],
   "outputs": [
    {
     "output_type": "error",
     "ename": "SyntaxError",
     "evalue": "unexpected EOF while parsing (Temp/ipykernel_16552/190542054.py, line 2)",
     "traceback": [
      "\u001b[1;36m  File \u001b[1;32m\"C:\\Users\\chinn\\AppData\\Local\\Temp/ipykernel_16552/190542054.py\"\u001b[1;36m, line \u001b[1;32m2\u001b[0m\n\u001b[1;33m    print( 'abs'\u001b[0m\n\u001b[1;37m                ^\u001b[0m\n\u001b[1;31mSyntaxError\u001b[0m\u001b[1;31m:\u001b[0m unexpected EOF while parsing\n"
     ]
    }
   ],
   "metadata": {}
  },
  {
   "cell_type": "code",
   "execution_count": 22,
   "source": [
    "# d exceptions or logical errors\r\n",
    "a = 1/0\r\n",
    "print(a)\r\n"
   ],
   "outputs": [
    {
     "output_type": "error",
     "ename": "ZeroDivisionError",
     "evalue": "division by zero",
     "traceback": [
      "\u001b[1;31m---------------------------------------------------------------------------\u001b[0m",
      "\u001b[1;31mZeroDivisionError\u001b[0m                         Traceback (most recent call last)",
      "\u001b[1;32m~\\AppData\\Local\\Temp/ipykernel_16552/1348824833.py\u001b[0m in \u001b[0;36m<module>\u001b[1;34m\u001b[0m\n\u001b[0;32m      1\u001b[0m \u001b[1;31m# d exceptions or logical errors\u001b[0m\u001b[1;33m\u001b[0m\u001b[1;33m\u001b[0m\u001b[1;33m\u001b[0m\u001b[0m\n\u001b[1;32m----> 2\u001b[1;33m \u001b[0ma\u001b[0m \u001b[1;33m=\u001b[0m \u001b[1;36m1\u001b[0m\u001b[1;33m/\u001b[0m\u001b[1;36m0\u001b[0m\u001b[1;33m\u001b[0m\u001b[1;33m\u001b[0m\u001b[0m\n\u001b[0m\u001b[0;32m      3\u001b[0m \u001b[0mprint\u001b[0m\u001b[1;33m(\u001b[0m\u001b[0ma\u001b[0m\u001b[1;33m)\u001b[0m\u001b[1;33m\u001b[0m\u001b[1;33m\u001b[0m\u001b[0m\n",
      "\u001b[1;31mZeroDivisionError\u001b[0m: division by zero"
     ]
    }
   ],
   "metadata": {}
  },
  {
   "cell_type": "code",
   "execution_count": 33,
   "source": [
    "a = [1, 2, 3]\r\n",
    "try:\r\n",
    "    print (\"2nd element = {}\".format(a[1]))\r\n",
    " \r\n",
    "    print (\"4th element = {}\" .format(a[3]))\r\n",
    " \r\n",
    "except:\r\n",
    "    print (\"An error occurred\")\r\n"
   ],
   "outputs": [
    {
     "output_type": "stream",
     "name": "stdout",
     "text": [
      "2nd element = 2\n",
      "An error occurred\n"
     ]
    }
   ],
   "metadata": {}
  },
  {
   "cell_type": "code",
   "execution_count": 37,
   "source": [
    "def div(a , b):\r\n",
    "    try:\r\n",
    "        c = ((a+b) / (a-b))\r\n",
    "    except ZeroDivisionError:\r\n",
    "        print (\"ZeroDivisionError\")\r\n",
    "    else:\r\n",
    "        print (c)\r\n",
    "\r\n",
    "print(div(1,1),div(1,0))"
   ],
   "outputs": [
    {
     "output_type": "stream",
     "name": "stdout",
     "text": [
      "ZeroDivisionError\n",
      "1.0\n",
      "None None\n"
     ]
    }
   ],
   "metadata": {}
  },
  {
   "cell_type": "code",
   "execution_count": 48,
   "source": [
    "try:\r\n",
    "    k = 4/+0  \r\n",
    "    print(k)\r\n",
    "except Exception:\r\n",
    "    print(\"ZeroDivisionError\")\r\n",
    " \r\n",
    "finally:\r\n",
    "    print('This is always executed')"
   ],
   "outputs": [
    {
     "output_type": "stream",
     "name": "stdout",
     "text": [
      "ZeroDivisionError\n",
      "This is always executed\n"
     ]
    }
   ],
   "metadata": {}
  },
  {
   "cell_type": "code",
   "execution_count": 30,
   "source": [
    "try:    \r\n",
    "    money = int(input(\"Enter the age:\"))    \r\n",
    "    if(money<100):    \r\n",
    "        raise ValueError   \r\n",
    "    else:    \r\n",
    "        print(\"Account is accessible\")    \r\n",
    "except ValueError:    \r\n",
    "    print(\"Low balance\")"
   ],
   "outputs": [
    {
     "output_type": "stream",
     "name": "stdout",
     "text": [
      "Low balance\n"
     ]
    }
   ],
   "metadata": {}
  },
  {
   "cell_type": "code",
   "execution_count": 33,
   "source": [
    "try:    \r\n",
    "    file = open(\"D:\\\\Sem-5\\\\Python for DS\\\\venom.txt\",\"r\")     # Absolute path\r\n",
    "    try:    \r\n",
    "        file.write(\"Who am I\")    \r\n",
    "    finally:    \r\n",
    "        file.close()    \r\n",
    "        print(\"file closed\")    \r\n",
    "except Exception as e:    \r\n",
    "    print(\"Error: \",e)  "
   ],
   "outputs": [
    {
     "output_type": "stream",
     "name": "stdout",
     "text": [
      "file closed\n",
      "Error:  not writable\n"
     ]
    }
   ],
   "metadata": {}
  },
  {
   "cell_type": "code",
   "execution_count": 49,
   "source": [
    "try:\r\n",
    "    raise NameError(\"Hello\") \r\n",
    "except NameError:\r\n",
    "    print (\"An exception\")\r\n",
    "    raise"
   ],
   "outputs": [
    {
     "output_type": "stream",
     "name": "stdout",
     "text": [
      "An exception\n"
     ]
    },
    {
     "output_type": "error",
     "ename": "NameError",
     "evalue": "Hello",
     "traceback": [
      "\u001b[1;31m---------------------------------------------------------------------------\u001b[0m",
      "\u001b[1;31mNameError\u001b[0m                                 Traceback (most recent call last)",
      "\u001b[1;32m~\\AppData\\Local\\Temp/ipykernel_16552/855876026.py\u001b[0m in \u001b[0;36m<module>\u001b[1;34m\u001b[0m\n\u001b[0;32m      1\u001b[0m \u001b[1;32mtry\u001b[0m\u001b[1;33m:\u001b[0m\u001b[1;33m\u001b[0m\u001b[1;33m\u001b[0m\u001b[0m\n\u001b[1;32m----> 2\u001b[1;33m     \u001b[1;32mraise\u001b[0m \u001b[0mNameError\u001b[0m\u001b[1;33m(\u001b[0m\u001b[1;34m\"Hello\"\u001b[0m\u001b[1;33m)\u001b[0m\u001b[1;33m\u001b[0m\u001b[1;33m\u001b[0m\u001b[0m\n\u001b[0m\u001b[0;32m      3\u001b[0m \u001b[1;32mexcept\u001b[0m \u001b[0mNameError\u001b[0m\u001b[1;33m:\u001b[0m\u001b[1;33m\u001b[0m\u001b[1;33m\u001b[0m\u001b[0m\n\u001b[0;32m      4\u001b[0m     \u001b[0mprint\u001b[0m \u001b[1;33m(\u001b[0m\u001b[1;34m\"An exception\"\u001b[0m\u001b[1;33m)\u001b[0m\u001b[1;33m\u001b[0m\u001b[1;33m\u001b[0m\u001b[0m\n\u001b[0;32m      5\u001b[0m     \u001b[1;32mraise\u001b[0m\u001b[1;33m\u001b[0m\u001b[1;33m\u001b[0m\u001b[0m\n",
      "\u001b[1;31mNameError\u001b[0m: Hello"
     ]
    }
   ],
   "metadata": {}
  }
 ],
 "metadata": {
  "orig_nbformat": 4,
  "language_info": {
   "name": "python",
   "version": "3.9.6",
   "mimetype": "text/x-python",
   "codemirror_mode": {
    "name": "ipython",
    "version": 3
   },
   "pygments_lexer": "ipython3",
   "nbconvert_exporter": "python",
   "file_extension": ".py"
  },
  "kernelspec": {
   "name": "python3",
   "display_name": "Python 3.9.6 64-bit"
  },
  "interpreter": {
   "hash": "914794eea6c5c358b287f920388a6340f4a8d6e41ce9f2a03c347040325d532a"
  }
 },
 "nbformat": 4,
 "nbformat_minor": 2
}