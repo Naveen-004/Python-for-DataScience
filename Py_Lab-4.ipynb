{
 "cells": [
  {
   "cell_type": "markdown",
   "metadata": {},
   "source": [
    "                                                                                                                               M.R.Naveen Kumar\n",
    "                                                                                                                                 19BTRCR005"
   ]
  },
  {
   "cell_type": "markdown",
   "metadata": {},
   "source": [
    "# Lab program - 04"
   ]
  },
  {
   "cell_type": "markdown",
   "metadata": {},
   "source": [
    "to shuffle a deck of cards using module random and draw 8 cards\n",
    "\n",
    "to display calendar of selected month and year by a user\n",
    "\n",
    "to solve the quadratic"
   ]
  },
  {
   "cell_type": "code",
   "execution_count": 1,
   "metadata": {},
   "outputs": [
    {
     "name": "stdout",
     "output_type": "stream",
     "text": [
      "1 of Spade\n",
      "1 of Heart\n",
      "1 of Diamond\n",
      "1 of Club\n",
      "2 of Spade\n",
      "2 of Heart\n",
      "2 of Diamond\n",
      "2 of Club\n",
      "3 of Spade\n",
      "3 of Heart\n",
      "3 of Diamond\n",
      "3 of Club\n",
      "4 of Spade\n",
      "4 of Heart\n",
      "4 of Diamond\n",
      "4 of Club\n",
      "5 of Spade\n",
      "5 of Heart\n",
      "5 of Diamond\n",
      "5 of Club\n",
      "6 of Spade\n",
      "6 of Heart\n",
      "6 of Diamond\n",
      "6 of Club\n",
      "7 of Spade\n",
      "7 of Heart\n",
      "7 of Diamond\n",
      "7 of Club\n",
      "8 of Spade\n",
      "8 of Heart\n",
      "8 of Diamond\n",
      "8 of Club\n",
      "9 of Spade\n",
      "9 of Heart\n",
      "9 of Diamond\n",
      "9 of Club\n",
      "10 of Spade\n",
      "10 of Heart\n",
      "10 of Diamond\n",
      "10 of Club\n",
      "11 of Spade\n",
      "11 of Heart\n",
      "11 of Diamond\n",
      "11 of Club\n",
      "12 of Spade\n",
      "12 of Heart\n",
      "12 of Diamond\n",
      "12 of Club\n",
      "13 of Spade\n",
      "13 of Heart\n",
      "13 of Diamond\n",
      "13 of Club\n"
     ]
    }
   ],
   "source": [
    "import itertools, random\n",
    "deck = list(itertools.product(range(1,14),['Spade', 'Heart', 'Diamond', 'Club']))\n",
    "\n",
    "for i in range(52):\n",
    "    print(deck[i][0], 'of', deck[i][1])"
   ]
  },
  {
   "cell_type": "code",
   "execution_count": 2,
   "metadata": {},
   "outputs": [
    {
     "name": "stdout",
     "output_type": "stream",
     "text": [
      "8 of Club\n",
      "10 of Club\n",
      "6 of Spade\n",
      "4 of Diamond\n",
      "5 of Heart\n",
      "13 of Heart\n",
      "2 of Spade\n",
      "13 of Diamond\n"
     ]
    }
   ],
   "source": [
    "random.shuffle(deck)\n",
    "\n",
    "# shuffling\n",
    "for i in range(8):\n",
    "    print(deck[i][0], 'of', deck[i][1])"
   ]
  },
  {
   "cell_type": "code",
   "execution_count": 4,
   "metadata": {},
   "outputs": [
    {
     "name": "stdout",
     "output_type": "stream",
     "text": [
      "     April 2002\n",
      "Mo Tu We Th Fr Sa Su\n",
      " 1  2  3  4  5  6  7\n",
      " 8  9 10 11 12 13 14\n",
      "15 16 17 18 19 20 21\n",
      "22 23 24 25 26 27 28\n",
      "29 30\n",
      "\n"
     ]
    }
   ],
   "source": [
    "import calendar as c\n",
    "yy = int(input(\"Enter year:\"))\n",
    "mm = int(input(\"Enter month:\"))\n",
    "\n",
    "print(c.month(yy, mm))"
   ]
  },
  {
   "cell_type": "code",
   "execution_count": 5,
   "metadata": {},
   "outputs": [
    {
     "name": "stdout",
     "output_type": "stream",
     "text": [
      "Roots are imaginary\n",
      "The roots values are -1.5 and 1.3228756555322954\n"
     ]
    }
   ],
   "source": [
    "import math\n",
    "\n",
    "a = float(input('Enter a: '))\n",
    "b = float(input('Enter b: '))\n",
    "c = float(input('Enter c: '))\n",
    "\n",
    "# discriminant\n",
    "disc = (b**2) - (4*a*c)\n",
    "\n",
    "if(disc==0):\n",
    "    print(\"Roots are equal\")\n",
    "    root1 = root2 = -b / ( 2 * a) \n",
    "    print('The roots values are {0} and {1}'.format(root1,root2))\n",
    "elif ( disc > 0 ):\n",
    "    print(\"Roots are real and distinct\")\n",
    "    root1 = (-b+math.sqrt(disc))/(2*a)\n",
    "    root2 = (-b-math.sqrt(disc))/(2*a)\n",
    "    print('The roots values are {0} and {1}'.format(root1,root2))\n",
    "else: \n",
    "    print(\"Roots are imaginary\")\n",
    "    root1 = -b /( 2 * a )\n",
    "    root2 =  math.sqrt(-disc)/(2*a)\n",
    "    print('The roots values are {0} and {1}'.format(root1,root2))"
   ]
  },
  {
   "cell_type": "code",
   "execution_count": 6,
   "metadata": {},
   "outputs": [
    {
     "name": "stdout",
     "output_type": "stream",
     "text": [
      "Roots are imaginary\n",
      "The roots values are -1.0 and (1.7320508075688772+0j)\n"
     ]
    }
   ],
   "source": [
    "import cmath\n",
    "\n",
    "a = float(input('Enter a: '))\n",
    "b = float(input('Enter b: '))\n",
    "c = float(input('Enter c: '))\n",
    "\n",
    "# discriminant\n",
    "disc = (b**2) - (4*a*c)\n",
    "\n",
    "if(disc==0):\n",
    "    print(\"Roots are equal\")\n",
    "    root1 = root2 = -b / ( 2 * a) \n",
    "elif ( disc > 0 ):\n",
    "    print(\"Roots are real and distinct\")\n",
    "    root1 = (-b+cmath.sqrt(disc))/(2*a)\n",
    "    root2 = (-b-cmath.sqrt(disc))/(2*a)\n",
    "else: \n",
    "    print(\"Roots are imaginary\")\n",
    "    root1 = -b /( 2 * a )\n",
    "    root2 =  cmath.sqrt(-disc)/(2*a)\n",
    "\n",
    "\n",
    "print('The roots values are {0} and {1}'.format(root1,root2))"
   ]
  }
 ],
 "metadata": {
  "interpreter": {
   "hash": "914794eea6c5c358b287f920388a6340f4a8d6e41ce9f2a03c347040325d532a"
  },
  "kernelspec": {
   "display_name": "Python 3.9.6 64-bit",
   "language": "python",
   "name": "python3"
  },
  "language_info": {
   "codemirror_mode": {
    "name": "ipython",
    "version": 3
   },
   "file_extension": ".py",
   "mimetype": "text/x-python",
   "name": "python",
   "nbconvert_exporter": "python",
   "pygments_lexer": "ipython3",
   "version": "3.9.6"
  },
  "orig_nbformat": 4
 },
 "nbformat": 4,
 "nbformat_minor": 2
}
